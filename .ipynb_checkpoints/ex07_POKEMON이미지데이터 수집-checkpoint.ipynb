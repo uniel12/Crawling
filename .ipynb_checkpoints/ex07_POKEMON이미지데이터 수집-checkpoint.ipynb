{
 "cells": [
  {
   "cell_type": "markdown",
   "id": "33f0fc06",
   "metadata": {},
   "source": [
    "## POKEMON 공식 홈페이지에서 이미지 데이터 수집\n",
    "- 바탕화면에 포켓몬도감이라는 폴더를 만들고\n",
    "- 이미지 데이터를 다운로드 받아서 폴더 안에 하나씩 저장하기"
   ]
  },
  {
   "cell_type": "markdown",
   "id": "95ba0474",
   "metadata": {},
   "source": [
    "#### 0. 라이브러리 불러오기"
   ]
  },
  {
   "cell_type": "code",
   "execution_count": 3,
   "id": "7ac47d96",
   "metadata": {},
   "outputs": [],
   "source": [
    "# 웹브라우저를 제어하기 위한 라이브러리\n",
    "from selenium import webdriver as wb\n",
    "# 웹에게 값을 \"입력\"하기 위한 라이브러리\n",
    "from selenium.webdriver.common.keys import Keys \n",
    "# html 문서에서 선택자와 태그의 위치를 찾기 위한 라이브러리\n",
    "from selenium.webdriver.common.by import By\n",
    "# 컴퓨터가 이해하기 쉬운 객체로 변환해주는 라이브러리\n",
    "from bs4 import BeautifulSoup as bs \n",
    "# 코딩 중간에 쉬는 시간을 부여해주는 라이브러리\n",
    "import time \n",
    "# 파일이나 폴더를 생성해주는 라이브러리 (파일 시스템 라이브러리)\n",
    "import os \n",
    "# 이미지 경로를 파일로 변환해주는 라이브러리\n",
    "from urllib.request import urlretrieve"
   ]
  },
  {
   "cell_type": "markdown",
   "id": "50a82c73",
   "metadata": {},
   "source": [
    "#### 1. 바탕화면에 '포켓몬도감'이라는 폴더 생성하기 -> os 라이브러리 사용"
   ]
  },
  {
   "cell_type": "code",
   "execution_count": 4,
   "id": "90c3f39f",
   "metadata": {},
   "outputs": [
    {
     "name": "stdout",
     "output_type": "stream",
     "text": [
      "폴더가 생성되었습니다.\n"
     ]
    }
   ],
   "source": [
    "# 폴더 생성 -> os 라이브러리\n",
    "# if not else\n",
    "# 바탕화면에 있는 파일의 경로를 가져오기\n",
    "# 마우스우클릭>속성>위치>복사 후 역슬래시 슬래시로 바꾸기>폴더 이름 뒤에 적기\n",
    "# 경로 불러올 때 \\를 슬래시(/) 나 \\\\로 바꿔줘야함!!\n",
    "if not os.path.isdir('C:/Users/smhrd/Desktop/포켓몬도감') :\n",
    "    os.mkdir('C:/Users/smhrd/Desktop/포켓몬도감') # 폴더 생성하는 코드\n",
    "    print('폴더가 생성되었습니다.')\n",
    "else :\n",
    "    print('이미지 폴더가 이미 존재합니다.')"
   ]
  },
  {
   "cell_type": "markdown",
   "id": "8677d611",
   "metadata": {},
   "source": [
    "#### 2. 포켓몬스터 공식 홈페이지 정보 가져오기"
   ]
  },
  {
   "cell_type": "code",
   "execution_count": 5,
   "id": "a3099800",
   "metadata": {},
   "outputs": [],
   "source": [
    "# 포켓몬 홈페이지 정보 가져오기\n",
    "driver= wb.Chrome()\n",
    "driver.get('https://pokemonkorea.co.kr/pokedex')"
   ]
  },
  {
   "cell_type": "markdown",
   "id": "6782b102",
   "metadata": {},
   "source": [
    "#### 3. 포켓몬 이미지 가져오기"
   ]
  },
  {
   "cell_type": "code",
   "execution_count": 7,
   "id": "ec6a0ff3",
   "metadata": {},
   "outputs": [],
   "source": [
    "# bs 객체화\n",
    "soup = bs(driver.page_source,'lxml')"
   ]
  },
  {
   "cell_type": "code",
   "execution_count": 9,
   "id": "8bb35f27",
   "metadata": {
    "collapsed": true
   },
   "outputs": [
    {
     "data": {
      "text/plain": [
       "[<img alt=\"\" class=\"img-fluid\" src=\"https://data1.pokemonkorea.co.kr/newdata/pokedex/mid/000101.png\"/>,\n",
       " <img alt=\"\" class=\"img-fluid\" src=\"https://data1.pokemonkorea.co.kr/newdata/pokedex/mid/000201.png\"/>,\n",
       " <img alt=\"\" class=\"img-fluid\" src=\"https://data1.pokemonkorea.co.kr/newdata/pokedex/mid/000301.png\"/>,\n",
       " <img alt=\"\" class=\"img-fluid\" src=\"https://data1.pokemonkorea.co.kr/newdata/pokedex/mid/000302.png\"/>,\n",
       " <img alt=\"\" class=\"img-fluid\" src=\"https://data1.pokemonkorea.co.kr/newdata/pokedex/mid/000303.png\"/>,\n",
       " <img alt=\"\" class=\"img-fluid\" src=\"https://data1.pokemonkorea.co.kr/newdata/pokedex/mid/000401.png\"/>,\n",
       " <img alt=\"\" class=\"img-fluid\" src=\"https://data1.pokemonkorea.co.kr/newdata/pokedex/mid/000501.png\"/>,\n",
       " <img alt=\"\" class=\"img-fluid\" src=\"https://data1.pokemonkorea.co.kr/newdata/pokedex/mid/000601.png\"/>,\n",
       " <img alt=\"\" class=\"img-fluid\" src=\"https://data1.pokemonkorea.co.kr/newdata/pokedex/mid/000602.png\"/>,\n",
       " <img alt=\"\" class=\"img-fluid\" src=\"https://data1.pokemonkorea.co.kr/newdata/pokedex/mid/000603.png\"/>,\n",
       " <img alt=\"\" class=\"img-fluid\" src=\"https://data1.pokemonkorea.co.kr/newdata/pokedex/mid/000604.png\"/>,\n",
       " <img alt=\"\" class=\"img-fluid\" src=\"https://data1.pokemonkorea.co.kr/newdata/pokedex/mid/000701.png\"/>,\n",
       " <img alt=\"\" class=\"img-fluid\" src=\"https://data1.pokemonkorea.co.kr/newdata/pokedex/mid/000801.png\"/>,\n",
       " <img alt=\"\" class=\"img-fluid\" src=\"https://data1.pokemonkorea.co.kr/newdata/pokedex/mid/000901.png\"/>,\n",
       " <img alt=\"\" class=\"img-fluid\" src=\"https://data1.pokemonkorea.co.kr/newdata/pokedex/mid/000902.png\"/>,\n",
       " <img alt=\"\" class=\"img-fluid\" src=\"https://data1.pokemonkorea.co.kr/newdata/pokedex/mid/000903.png\"/>,\n",
       " <img alt=\"\" class=\"img-fluid\" src=\"https://data1.pokemonkorea.co.kr/newdata/pokedex/mid/001001.png\"/>,\n",
       " <img alt=\"\" class=\"img-fluid\" src=\"https://data1.pokemonkorea.co.kr/newdata/pokedex/mid/001101.png\"/>]"
      ]
     },
     "execution_count": 9,
     "metadata": {},
     "output_type": "execute_result"
    }
   ],
   "source": [
    "poke_img = soup.select('img.img-fluid')\n",
    "poke_img"
   ]
  },
  {
   "cell_type": "code",
   "execution_count": 10,
   "id": "b5e57295",
   "metadata": {},
   "outputs": [
    {
     "data": {
      "text/plain": [
       "''"
      ]
     },
     "execution_count": 10,
     "metadata": {},
     "output_type": "execute_result"
    }
   ],
   "source": [
    "poke_img[0].text\n",
    "# 비어있는 데이터가 출력\n",
    "# .text는 여는태그와 닫는태그 사이에 있는 contents를 가져와주는데\n",
    "# img태그는 홑태그이므로 contents가 존재하지 않는다."
   ]
  },
  {
   "cell_type": "code",
   "execution_count": 11,
   "id": "57024f11",
   "metadata": {},
   "outputs": [
    {
     "data": {
      "text/plain": [
       "<img alt=\"\" class=\"img-fluid\" src=\"https://data1.pokemonkorea.co.kr/newdata/pokedex/mid/000101.png\"/>"
      ]
     },
     "execution_count": 11,
     "metadata": {},
     "output_type": "execute_result"
    }
   ],
   "source": [
    "# img태그의 정보를 가져오려면 --> 이미지가 저장된 경로값을 가져오면 됨\n",
    "poke_img[0]"
   ]
  },
  {
   "cell_type": "code",
   "execution_count": 14,
   "id": "fa575ddd",
   "metadata": {},
   "outputs": [
    {
     "data": {
      "text/plain": [
       "'https://data1.pokemonkorea.co.kr/newdata/pokedex/mid/000101.png'"
      ]
     },
     "execution_count": 14,
     "metadata": {},
     "output_type": "execute_result"
    }
   ],
   "source": [
    "# img태그에서 경로(src)값만 추출\n",
    "# 속성값을 가져오려면?--> 인덱싱으로 접근  : poke_img[0]['속성명']\n",
    "poke_img[0]['src']"
   ]
  },
  {
   "cell_type": "code",
   "execution_count": 18,
   "id": "187e7fce",
   "metadata": {},
   "outputs": [
    {
     "data": {
      "text/plain": [
       "['https://data1.pokemonkorea.co.kr/newdata/pokedex/mid/000101.png',\n",
       " 'https://data1.pokemonkorea.co.kr/newdata/pokedex/mid/000201.png',\n",
       " 'https://data1.pokemonkorea.co.kr/newdata/pokedex/mid/000301.png',\n",
       " 'https://data1.pokemonkorea.co.kr/newdata/pokedex/mid/000302.png',\n",
       " 'https://data1.pokemonkorea.co.kr/newdata/pokedex/mid/000303.png',\n",
       " 'https://data1.pokemonkorea.co.kr/newdata/pokedex/mid/000401.png',\n",
       " 'https://data1.pokemonkorea.co.kr/newdata/pokedex/mid/000501.png',\n",
       " 'https://data1.pokemonkorea.co.kr/newdata/pokedex/mid/000601.png',\n",
       " 'https://data1.pokemonkorea.co.kr/newdata/pokedex/mid/000602.png',\n",
       " 'https://data1.pokemonkorea.co.kr/newdata/pokedex/mid/000603.png',\n",
       " 'https://data1.pokemonkorea.co.kr/newdata/pokedex/mid/000604.png',\n",
       " 'https://data1.pokemonkorea.co.kr/newdata/pokedex/mid/000701.png',\n",
       " 'https://data1.pokemonkorea.co.kr/newdata/pokedex/mid/000801.png',\n",
       " 'https://data1.pokemonkorea.co.kr/newdata/pokedex/mid/000901.png',\n",
       " 'https://data1.pokemonkorea.co.kr/newdata/pokedex/mid/000902.png',\n",
       " 'https://data1.pokemonkorea.co.kr/newdata/pokedex/mid/000903.png',\n",
       " 'https://data1.pokemonkorea.co.kr/newdata/pokedex/mid/001001.png',\n",
       " 'https://data1.pokemonkorea.co.kr/newdata/pokedex/mid/001101.png']"
      ]
     },
     "execution_count": 18,
     "metadata": {},
     "output_type": "execute_result"
    }
   ],
   "source": [
    "# 이미지 반복문으로 저장\n",
    "# 순수한 이미지 src(주소)값으 담을 리스트 생성 -> 반복문을 통해 하나하나 저장\n",
    "img_list=[]\n",
    "for img in poke_img :\n",
    "    img_list.append(img['src'])\n",
    "img_list"
   ]
  },
  {
   "cell_type": "markdown",
   "id": "0d9c5517",
   "metadata": {},
   "source": [
    "#### 4. urlretrieve 라이브러리\n",
    "- 이미지 경로(src)값을 활용해서 이미지 파일로 변환해주는 라이브러리 사용"
   ]
  },
  {
   "cell_type": "code",
   "execution_count": 16,
   "id": "fa0c158f",
   "metadata": {},
   "outputs": [
    {
     "data": {
      "text/plain": [
       "('C:/Users/smhrd/Desktop/포켓몬도감/1번포켓몬.jpg',\n",
       " <http.client.HTTPMessage at 0x27c28bde110>)"
      ]
     },
     "execution_count": 16,
     "metadata": {},
     "output_type": "execute_result"
    }
   ],
   "source": [
    "# 이미지 파일로 저장\n",
    "urlretrieve(img_list[0],'C:/Users/smhrd/Desktop/포켓몬도감/1번포켓몬.jpg')"
   ]
  },
  {
   "cell_type": "code",
   "execution_count": 17,
   "id": "3e65b599",
   "metadata": {},
   "outputs": [],
   "source": [
    "# 반복문을 사용해서 모든 데이터 저장하기\n",
    "for i in range(len(img_list)) :\n",
    "    urlretrieve(img_list[i],f'C:/Users/smhrd/Desktop/포켓몬도감/{i+1}번포켓몬.jpg')\n",
    "# 이미지의 개수가 너무 적다 -> 스크롤 해주자!!"
   ]
  },
  {
   "cell_type": "markdown",
   "id": "0f15f6c5",
   "metadata": {},
   "source": [
    "#### 5. 화면에서 스크롤 내리기\n",
    "- 스크롤 내리는 방법\n",
    "    - page down\n",
    "    - ▼ (방향키)\n",
    "    - end\n",
    "    - space"
   ]
  },
  {
   "cell_type": "code",
   "execution_count": 55,
   "id": "ec412d08",
   "metadata": {},
   "outputs": [],
   "source": [
    "# 키보드에 있는 end키를 사용해서 스크롤 내리기(자동스크롤 진행)\n",
    "# body태그(화면 전체를 담당)한테 부탁!\n",
    "body = driver.find_element(By.CSS_SELECTOR,'body')\n",
    "for i in range(20):\n",
    "    body.send_keys(Keys.END)\n",
    "    time.sleep(2)"
   ]
  },
  {
   "cell_type": "markdown",
   "id": "7d58b6c6",
   "metadata": {},
   "source": [
    "#### 6. 이미지 크롤링!"
   ]
  },
  {
   "cell_type": "code",
   "execution_count": 63,
   "id": "5801031a",
   "metadata": {},
   "outputs": [
    {
     "name": "stdout",
     "output_type": "stream",
     "text": [
      "폴더가 생성되었습니다.\n",
      "저장완료\n"
     ]
    }
   ],
   "source": [
    "# 이 한셀만 실행해도 내가 원하는 포켓몬스터까지 전부 수집될 수 있도록 코드를 작성\n",
    "\n",
    "# 라이브러리 불러오기\n",
    "from selenium import webdriver as wb\n",
    "from selenium.webdriver.common.keys import Keys \n",
    "from selenium.webdriver.common.by import By\n",
    "from bs4 import BeautifulSoup as bs \n",
    "import time \n",
    "import os \n",
    "from urllib.request import urlretrieve\n",
    "\n",
    "# 포켓몬 홈페이지 정보 가져오기\n",
    "driver= wb.Chrome()\n",
    "driver.get('https://pokemonkorea.co.kr/pokedex')\n",
    "time.sleep(2)\n",
    "driver.maximixe_window()\n",
    "\n",
    "# 포켓몬 홈페이지 끝까지 스크롤 내리기\n",
    "body = driver.find_element(By.CSS_SELECTOR,'body')\n",
    "for i in range(100): # 수집하려는 데이터 개수가 충분히 모일만큼 먼저 스크롤\n",
    "    body.send_keys(Keys.END)\n",
    "    time.sleep(2)\n",
    "    \n",
    "# 포켓몬도감 폴더만들기\n",
    "if not os.path.isdir('C:/Users/smhrd/Desktop/포켓몬도감') :\n",
    "    os.mkdir('C:/Users/smhrd/Desktop/포켓몬도감') # 폴더 생성하는 코드\n",
    "    print('폴더가 생성되었습니다.')\n",
    "else :\n",
    "    print('이미지 폴더가 이미 존재합니다.')\n",
    "\n",
    "# bs 객체화\n",
    "soup = bs(driver.page_source,'lxml')\n",
    "# 포켓몬 이미지 가져오기\n",
    "poke_img = soup.select('img.img-fluid') #포켓몬스터 img태그\n",
    "\n",
    "# 포켓몬 이미지 저장하기\n",
    "img_list=[]\n",
    "for img in poke_img :\n",
    "    img_list.append(img['src']) # 속성값 인덱한 후 리스트 안에 저장\n",
    "\n",
    "for i in range(len(img_list)) :\n",
    "    urlretrieve(\n",
    "        img_list[i],f'C:/Users/smhrd/Desktop/포켓몬도감/{i+1}번포켓몬.jpg')\n",
    "print('저장완료')"
   ]
  },
  {
   "cell_type": "code",
   "execution_count": null,
   "id": "22b17f13",
   "metadata": {},
   "outputs": [],
   "source": [
    "# 브라우저 화면 크기 변경하기\n",
    "driver.maximixe_window()"
   ]
  },
  {
   "cell_type": "code",
   "execution_count": 64,
   "id": "67453817",
   "metadata": {},
   "outputs": [
    {
     "data": {
      "text/plain": [
       "1228"
      ]
     },
     "execution_count": 64,
     "metadata": {},
     "output_type": "execute_result"
    }
   ],
   "source": [
    "# 같은 번호 중복때문임 신경ㄴㄴ\n",
    "len(img_list)"
   ]
  },
  {
   "cell_type": "code",
   "execution_count": 72,
   "id": "8dfb23f7",
   "metadata": {},
   "outputs": [
    {
     "data": {
      "text/plain": [
       "''"
      ]
     },
     "execution_count": 72,
     "metadata": {},
     "output_type": "execute_result"
    }
   ],
   "source": [
    "# 포켓몬 이름 가져오기\n",
    "soup.select('div.bx-txt>h3')[0].text"
   ]
  },
  {
   "cell_type": "code",
   "execution_count": 74,
   "id": "b4cdf59a",
   "metadata": {},
   "outputs": [
    {
     "data": {
      "text/plain": [
       "'No.0001\\n이상해씨'"
      ]
     },
     "execution_count": 74,
     "metadata": {},
     "output_type": "execute_result"
    }
   ],
   "source": [
    "driver.find_elements(By.CLASS_NAME,'bx-txt>h3')[0].text"
   ]
  },
  {
   "cell_type": "code",
   "execution_count": null,
   "id": "ca4093d2",
   "metadata": {},
   "outputs": [],
   "source": [
    "poke_name = driver.find_elements(By.CLASS_NAME,'bx-txt>h3')\n",
    "for i in range(len(poke_name)+1)"
   ]
  },
  {
   "cell_type": "code",
   "execution_count": 75,
   "id": "6f04308c",
   "metadata": {
    "scrolled": true
   },
   "outputs": [
    {
     "ename": "KeyboardInterrupt",
     "evalue": "Interrupted by user",
     "output_type": "error",
     "traceback": [
      "\u001b[1;31m---------------------------------------------------------------------------\u001b[0m",
      "\u001b[1;31mKeyboardInterrupt\u001b[0m                         Traceback (most recent call last)",
      "Cell \u001b[1;32mIn[75], line 1\u001b[0m\n\u001b[1;32m----> 1\u001b[0m search_name \u001b[38;5;241m=\u001b[39m \u001b[38;5;28minput\u001b[39m(\u001b[38;5;124m'\u001b[39m\u001b[38;5;124m검색어를 입력하세요 : \u001b[39m\u001b[38;5;124m'\u001b[39m)  \u001b[38;5;66;03m# 검색어 입력받기\u001b[39;00m\n\u001b[0;32m      3\u001b[0m driver \u001b[38;5;241m=\u001b[39m wb\u001b[38;5;241m.\u001b[39mChrome()\n\u001b[0;32m      4\u001b[0m driver\u001b[38;5;241m.\u001b[39mget(\u001b[38;5;124m'\u001b[39m\u001b[38;5;124mhttps://www.naver.com/\u001b[39m\u001b[38;5;124m'\u001b[39m)\n",
      "File \u001b[1;32m~\\anaconda3\\Lib\\site-packages\\ipykernel\\kernelbase.py:1175\u001b[0m, in \u001b[0;36mKernel.raw_input\u001b[1;34m(self, prompt)\u001b[0m\n\u001b[0;32m   1171\u001b[0m \u001b[38;5;28;01mif\u001b[39;00m \u001b[38;5;129;01mnot\u001b[39;00m \u001b[38;5;28mself\u001b[39m\u001b[38;5;241m.\u001b[39m_allow_stdin:\n\u001b[0;32m   1172\u001b[0m     \u001b[38;5;28;01mraise\u001b[39;00m StdinNotImplementedError(\n\u001b[0;32m   1173\u001b[0m         \u001b[38;5;124m\"\u001b[39m\u001b[38;5;124mraw_input was called, but this frontend does not support input requests.\u001b[39m\u001b[38;5;124m\"\u001b[39m\n\u001b[0;32m   1174\u001b[0m     )\n\u001b[1;32m-> 1175\u001b[0m \u001b[38;5;28;01mreturn\u001b[39;00m \u001b[38;5;28mself\u001b[39m\u001b[38;5;241m.\u001b[39m_input_request(\n\u001b[0;32m   1176\u001b[0m     \u001b[38;5;28mstr\u001b[39m(prompt),\n\u001b[0;32m   1177\u001b[0m     \u001b[38;5;28mself\u001b[39m\u001b[38;5;241m.\u001b[39m_parent_ident[\u001b[38;5;124m\"\u001b[39m\u001b[38;5;124mshell\u001b[39m\u001b[38;5;124m\"\u001b[39m],\n\u001b[0;32m   1178\u001b[0m     \u001b[38;5;28mself\u001b[39m\u001b[38;5;241m.\u001b[39mget_parent(\u001b[38;5;124m\"\u001b[39m\u001b[38;5;124mshell\u001b[39m\u001b[38;5;124m\"\u001b[39m),\n\u001b[0;32m   1179\u001b[0m     password\u001b[38;5;241m=\u001b[39m\u001b[38;5;28;01mFalse\u001b[39;00m,\n\u001b[0;32m   1180\u001b[0m )\n",
      "File \u001b[1;32m~\\anaconda3\\Lib\\site-packages\\ipykernel\\kernelbase.py:1217\u001b[0m, in \u001b[0;36mKernel._input_request\u001b[1;34m(self, prompt, ident, parent, password)\u001b[0m\n\u001b[0;32m   1214\u001b[0m             \u001b[38;5;28;01mbreak\u001b[39;00m\n\u001b[0;32m   1215\u001b[0m \u001b[38;5;28;01mexcept\u001b[39;00m \u001b[38;5;167;01mKeyboardInterrupt\u001b[39;00m:\n\u001b[0;32m   1216\u001b[0m     \u001b[38;5;66;03m# re-raise KeyboardInterrupt, to truncate traceback\u001b[39;00m\n\u001b[1;32m-> 1217\u001b[0m     \u001b[38;5;28;01mraise\u001b[39;00m \u001b[38;5;167;01mKeyboardInterrupt\u001b[39;00m(\u001b[38;5;124m\"\u001b[39m\u001b[38;5;124mInterrupted by user\u001b[39m\u001b[38;5;124m\"\u001b[39m) \u001b[38;5;28;01mfrom\u001b[39;00m \u001b[38;5;28;01mNone\u001b[39;00m\n\u001b[0;32m   1218\u001b[0m \u001b[38;5;28;01mexcept\u001b[39;00m \u001b[38;5;167;01mException\u001b[39;00m:\n\u001b[0;32m   1219\u001b[0m     \u001b[38;5;28mself\u001b[39m\u001b[38;5;241m.\u001b[39mlog\u001b[38;5;241m.\u001b[39mwarning(\u001b[38;5;124m\"\u001b[39m\u001b[38;5;124mInvalid Message:\u001b[39m\u001b[38;5;124m\"\u001b[39m, exc_info\u001b[38;5;241m=\u001b[39m\u001b[38;5;28;01mTrue\u001b[39;00m)\n",
      "\u001b[1;31mKeyboardInterrupt\u001b[0m: Interrupted by user"
     ]
    }
   ],
   "source": [
    "search_name = input('검색어를 입력하세요 : ')  # 검색어 입력받기\n",
    "\n",
    "driver = wb.Chrome()\n",
    "driver.get('https://www.naver.com/')\n",
    "time.sleep(1)\n",
    "\n",
    "search = driver.find_element(By.ID, 'query')  # 검색창 찾기\n",
    "\n",
    "search.send_keys(search_name)  # 검색창에 입력 받은 검색어 보내기\n",
    "search.send_keys(Keys.ENTER)  # ENTER로 검색!\n",
    "\n",
    "if not os.path.isdir(f'C:/Users/smhrd/Desktop/{search_name}'):  \n",
    "    os.mkdir(f'C:/Users/smhrd/Desktop/{search_name}')  # 검색어와 같은 이름을 가지는 폴더 바탕화면에 생성\n",
    "    print('폴더가 생성되었습니다')\n",
    "else :\n",
    "    print('폴더가 이미 존재합니다')\n",
    "\n",
    "    # 여기 코드 문제 - 첫번째 탭을 클릭 -> 이미지탭 : 검색했을 때 두번째에 이미지가 없을 때 오류\n",
    "driver.find_elements(By.CSS_SELECTOR, '.tab')[1].click()  #  ==> '이미지'탭 클릭\n",
    "time.sleep(2)\n",
    "\n",
    "body = driver.find_element(By.CSS_SELECTOR, 'body')\n",
    "for i in range(5):\n",
    "    body.send_keys(Keys.END)  # 스크롤을 5번 내려주겠다\n",
    "    time.sleep(2)\n",
    "\n",
    "\n",
    "# img_list = []\n",
    "# for j in range(len(driver_img)):\n",
    "#    img_list.append(driver_img[j].get_attribute('src'))  # 이미지 태그의 src 값을 추출해서 리스트에 담아주기\n",
    "\n",
    "soup = bs(driver.page_source, 'lxml')\n",
    "img_list = soup.select('img._image._listImage')\n",
    "image_list = []\n",
    "for img in img_list:\n",
    "    if img['src'][:4] != 'data':\n",
    "        image_list.append(img['src'])\n",
    "    \n",
    "for k in range(len(image_list)):\n",
    "    urlretrieve(image_list[k], f'C:/Users/smhrd/Desktop/{search_name}/{k+1}번 이미지.jpg')\n",
    "    # 리스트에 있는 src 경로값을 이미지 파일로 변환해서 저장"
   ]
  },
  {
   "cell_type": "code",
   "execution_count": null,
   "id": "3903e1fb",
   "metadata": {},
   "outputs": [],
   "source": []
  },
  {
   "cell_type": "code",
   "execution_count": null,
   "id": "6df54f53",
   "metadata": {},
   "outputs": [],
   "source": []
  },
  {
   "cell_type": "code",
   "execution_count": null,
   "id": "be9bd7c1",
   "metadata": {},
   "outputs": [],
   "source": []
  },
  {
   "cell_type": "code",
   "execution_count": null,
   "id": "3664a4ff",
   "metadata": {},
   "outputs": [],
   "source": []
  },
  {
   "cell_type": "code",
   "execution_count": null,
   "id": "8c8048dc",
   "metadata": {},
   "outputs": [],
   "source": []
  },
  {
   "cell_type": "code",
   "execution_count": null,
   "id": "48ecc323",
   "metadata": {},
   "outputs": [],
   "source": []
  },
  {
   "cell_type": "code",
   "execution_count": null,
   "id": "ae33904f",
   "metadata": {},
   "outputs": [],
   "source": []
  },
  {
   "cell_type": "code",
   "execution_count": null,
   "id": "89a17e0b",
   "metadata": {},
   "outputs": [],
   "source": []
  },
  {
   "cell_type": "code",
   "execution_count": null,
   "id": "97573a64",
   "metadata": {},
   "outputs": [],
   "source": []
  },
  {
   "cell_type": "code",
   "execution_count": null,
   "id": "e1697f77",
   "metadata": {},
   "outputs": [],
   "source": []
  },
  {
   "cell_type": "code",
   "execution_count": null,
   "id": "6b4c0533",
   "metadata": {},
   "outputs": [],
   "source": []
  },
  {
   "cell_type": "code",
   "execution_count": null,
   "id": "76d1997d",
   "metadata": {},
   "outputs": [],
   "source": []
  },
  {
   "cell_type": "code",
   "execution_count": null,
   "id": "0eee257f",
   "metadata": {},
   "outputs": [],
   "source": []
  },
  {
   "cell_type": "code",
   "execution_count": null,
   "id": "9221a42d",
   "metadata": {},
   "outputs": [],
   "source": []
  },
  {
   "cell_type": "code",
   "execution_count": null,
   "id": "132a803a",
   "metadata": {},
   "outputs": [],
   "source": []
  },
  {
   "cell_type": "code",
   "execution_count": null,
   "id": "0c64e1a1",
   "metadata": {},
   "outputs": [],
   "source": []
  },
  {
   "cell_type": "code",
   "execution_count": null,
   "id": "5cd3f930",
   "metadata": {},
   "outputs": [],
   "source": []
  },
  {
   "cell_type": "code",
   "execution_count": null,
   "id": "490fb696",
   "metadata": {},
   "outputs": [],
   "source": []
  },
  {
   "cell_type": "code",
   "execution_count": null,
   "id": "658754f5",
   "metadata": {},
   "outputs": [],
   "source": []
  },
  {
   "cell_type": "code",
   "execution_count": null,
   "id": "987e27b1",
   "metadata": {},
   "outputs": [],
   "source": []
  }
 ],
 "metadata": {
  "kernelspec": {
   "display_name": "Python 3 (ipykernel)",
   "language": "python",
   "name": "python3"
  },
  "language_info": {
   "codemirror_mode": {
    "name": "ipython",
    "version": 3
   },
   "file_extension": ".py",
   "mimetype": "text/x-python",
   "name": "python",
   "nbconvert_exporter": "python",
   "pygments_lexer": "ipython3",
   "version": "3.11.3"
  }
 },
 "nbformat": 4,
 "nbformat_minor": 5
}
