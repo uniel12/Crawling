{
 "cells": [
  {
   "cell_type": "markdown",
   "id": "bdb0cac8",
   "metadata": {},
   "source": [
    "### selenium 라이브러리 불러오기\n",
    "- 웹페이지를 제어하기 위한 라이브러리"
   ]
  },
  {
   "cell_type": "code",
   "execution_count": 7,
   "id": "1e9c4075",
   "metadata": {},
   "outputs": [
    {
     "name": "stdout",
     "output_type": "stream",
     "text": [
      "Requirement already satisfied: selenium in c:\\users\\smhrd\\anaconda3\\lib\\site-packages (4.11.2)\n",
      "Requirement already satisfied: urllib3[socks]<3,>=1.26 in c:\\users\\smhrd\\anaconda3\\lib\\site-packages (from selenium) (1.26.16)\n",
      "Requirement already satisfied: trio~=0.17 in c:\\users\\smhrd\\anaconda3\\lib\\site-packages (from selenium) (0.22.2)\n",
      "Requirement already satisfied: trio-websocket~=0.9 in c:\\users\\smhrd\\anaconda3\\lib\\site-packages (from selenium) (0.10.3)\n",
      "Requirement already satisfied: certifi>=2021.10.8 in c:\\users\\smhrd\\anaconda3\\lib\\site-packages (from selenium) (2023.5.7)\n",
      "Requirement already satisfied: attrs>=20.1.0 in c:\\users\\smhrd\\anaconda3\\lib\\site-packages (from trio~=0.17->selenium) (22.1.0)\n",
      "Requirement already satisfied: sortedcontainers in c:\\users\\smhrd\\anaconda3\\lib\\site-packages (from trio~=0.17->selenium) (2.4.0)\n",
      "Requirement already satisfied: idna in c:\\users\\smhrd\\anaconda3\\lib\\site-packages (from trio~=0.17->selenium) (3.4)\n",
      "Requirement already satisfied: outcome in c:\\users\\smhrd\\anaconda3\\lib\\site-packages (from trio~=0.17->selenium) (1.2.0)\n",
      "Requirement already satisfied: sniffio in c:\\users\\smhrd\\anaconda3\\lib\\site-packages (from trio~=0.17->selenium) (1.2.0)\n",
      "Requirement already satisfied: cffi>=1.14 in c:\\users\\smhrd\\anaconda3\\lib\\site-packages (from trio~=0.17->selenium) (1.15.1)\n",
      "Requirement already satisfied: exceptiongroup in c:\\users\\smhrd\\anaconda3\\lib\\site-packages (from trio-websocket~=0.9->selenium) (1.1.2)\n",
      "Requirement already satisfied: wsproto>=0.14 in c:\\users\\smhrd\\anaconda3\\lib\\site-packages (from trio-websocket~=0.9->selenium) (1.2.0)\n",
      "Requirement already satisfied: PySocks!=1.5.7,<2.0,>=1.5.6 in c:\\users\\smhrd\\anaconda3\\lib\\site-packages (from urllib3[socks]<3,>=1.26->selenium) (1.7.1)\n",
      "Requirement already satisfied: pycparser in c:\\users\\smhrd\\anaconda3\\lib\\site-packages (from cffi>=1.14->trio~=0.17->selenium) (2.21)\n",
      "Requirement already satisfied: h11<1,>=0.9.0 in c:\\users\\smhrd\\anaconda3\\lib\\site-packages (from wsproto>=0.14->trio-websocket~=0.9->selenium) (0.14.0)\n"
     ]
    }
   ],
   "source": [
    "# 기본적으로 파이썬에 내장된 라이브러리가 아니므로 설치를 해줘야한다.\n",
    "!pip install selenium"
   ]
  },
  {
   "cell_type": "code",
   "execution_count": 8,
   "id": "4ce26752",
   "metadata": {},
   "outputs": [],
   "source": [
    "from selenium import webdriver as wb\n",
    "# webdriver -> 웹브라우저를 제어하기 위한 라이브러리\n",
    "from selenium.webdriver.common.keys import Keys\n",
    "# 웹을 통해서 값을 '입력'하기 위한 라이브러리 -> 컴퓨터용 키보드\n",
    "from selenium.webdriver.common.by import By\n",
    "# 태그의 위치를 찾기 위한 라이브러리"
   ]
  },
  {
   "cell_type": "markdown",
   "id": "057f1197",
   "metadata": {},
   "source": [
    "##### selenium 환경설정\n",
    "- 크롬드라이버를 항상 최신버전으로 유지해주어야 실행이 된다."
   ]
  },
  {
   "cell_type": "code",
   "execution_count": 9,
   "id": "8ac8fc13",
   "metadata": {},
   "outputs": [],
   "source": [
    "# 크롬 드라이버는 늘 최신버전이어야 한다\n",
    "# 구글에 '크롬드라이버' 검색\n",
    "# 사용중인 크롬 버전과 일치하는 드라이버를 크롤링 폴더에 업로드해줘야한다.\n",
    "\n",
    "# 크롬 버전 확인하는 방법\n",
    "# 우측 상단 케밥 바(점 3개 버튼) 클릭 -> 설정 \n",
    "# -> 좌측하단 Chrome 정보클릭 -> 버전확인 "
   ]
  },
  {
   "cell_type": "code",
   "execution_count": 10,
   "id": "6b3029aa",
   "metadata": {},
   "outputs": [],
   "source": [
    "# 크롬드라이버 실행\n",
    "driver = wb.Chrome()\n",
    "\n",
    "# 주소를 알려주지 않으면 빈 창이 뜨므로\n",
    "# requests 처럼 메소드를 사용하여 페이지의 url 입력\n",
    "driver.get('https://www.naver.com/')\n",
    "\n",
    "# 이제부터 driver라는 변수가 페이지의 모든 정보를 갖고 있게 된다"
   ]
  },
  {
   "cell_type": "code",
   "execution_count": 11,
   "id": "ba6de3d0",
   "metadata": {},
   "outputs": [
    {
     "data": {
      "text/plain": [
       "<selenium.webdriver.remote.webelement.WebElement (session=\"329e24e9b248559c706106b58639deef\", element=\"F7B80A372EE348CC8281B02B5B48D9A7_element_177\")>"
      ]
     },
     "execution_count": 11,
     "metadata": {},
     "output_type": "execute_result"
    }
   ],
   "source": [
    "# 검색창 위치 찾기(By 라이브러리)\n",
    "driver.find_element(By.ID,'query')"
   ]
  },
  {
   "cell_type": "code",
   "execution_count": 12,
   "id": "da267cb8",
   "metadata": {},
   "outputs": [],
   "source": [
    "search = driver.find_element(By.ID,'query')"
   ]
  },
  {
   "cell_type": "code",
   "execution_count": 13,
   "id": "0eca74fc",
   "metadata": {},
   "outputs": [],
   "source": [
    "# 검색어 입력하기\n",
    "# search 검색창의 위치\n",
    "# send_keys('단어') --> '단어'라는 키워드를 검색창에 전송\n",
    "# 웹 드라이버가 꼭 켜져있는 상태에서 해야한다!!\n",
    "search.send_keys('아이유 배경화면')"
   ]
  },
  {
   "cell_type": "code",
   "execution_count": 15,
   "id": "c5cc8c86",
   "metadata": {},
   "outputs": [],
   "source": [
    "# 검색 버튼 클릭하기\n",
    "btn = driver.find_element(By.ID,'search-btn')\n",
    "btn.click()"
   ]
  },
  {
   "cell_type": "code",
   "execution_count": 19,
   "id": "73dd1a2e",
   "metadata": {},
   "outputs": [],
   "source": [
    "# driver.back() --> 뒤로가기\n",
    "# 엔터\n",
    "search = driver.find_element(By.ID,'query')\n",
    "search.send_keys('점메추')\n",
    "# -> 키보드에 있는 ENTER 기능을 사용\n",
    "search.send_keys(Keys.ENTER)"
   ]
  },
  {
   "cell_type": "code",
   "execution_count": 21,
   "id": "b46670e8",
   "metadata": {},
   "outputs": [],
   "source": [
    "# 크롬창 종료\n",
    "driver.close()"
   ]
  },
  {
   "cell_type": "code",
   "execution_count": 22,
   "id": "d78f6654",
   "metadata": {},
   "outputs": [],
   "source": [
    "# 왜 이걸 배워야하는가? \n",
    "# 크롤링하는데 시간이 오래 걸림 -> 페이지 넘겨가면서 다 해야하니까 불편\n",
    "# 자동으로 파이썬에게 시키기"
   ]
  },
  {
   "cell_type": "code",
   "execution_count": null,
   "id": "626914db",
   "metadata": {},
   "outputs": [],
   "source": []
  }
 ],
 "metadata": {
  "kernelspec": {
   "display_name": "Python 3 (ipykernel)",
   "language": "python",
   "name": "python3"
  },
  "language_info": {
   "codemirror_mode": {
    "name": "ipython",
    "version": 3
   },
   "file_extension": ".py",
   "mimetype": "text/x-python",
   "name": "python",
   "nbconvert_exporter": "python",
   "pygments_lexer": "ipython3",
   "version": "3.11.3"
  }
 },
 "nbformat": 4,
 "nbformat_minor": 5
}
