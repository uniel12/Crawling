{
 "cells": [
  {
   "cell_type": "markdown",
   "id": "ccdf1322",
   "metadata": {},
   "source": [
    "## Gmarket 상품정보 크롤링\n",
    "- 1~10위까지 상품에 하나하나 접근(클릭)\n",
    "- 상품이름, 상품가격, 카테고리 수집"
   ]
  },
  {
   "cell_type": "markdown",
   "id": "595c5b97",
   "metadata": {},
   "source": [
    "### 순서\n",
    "0. 라이브러리 가져오기\n",
    "1. Gmarket 베스트 상품 페이지 가져오기\n",
    "2. 1위 상품 클릭(.click())\n",
    "3. 상품명, 상품가격, 카테고리에 해당하는 태그 찾아서 컨텐츠 수집\n",
    "4. Gmarket 베스트 상품 페이지로 돌아가기\n",
    "5. 반복문으로 1위~10위까지 클릭\n",
    "6. 상품명, 상품가격, 카테고리라는 key값으로 딕셔너리 생성\n",
    "7. 데이터프레임 생성 후 csv파일로 변환"
   ]
  },
  {
   "cell_type": "markdown",
   "id": "f1cde131",
   "metadata": {},
   "source": [
    "#### 0. 라이브러리 가져오기"
   ]
  },
  {
   "cell_type": "code",
   "execution_count": 66,
   "id": "be830743",
   "metadata": {},
   "outputs": [],
   "source": [
    "from selenium import webdriver as wb\n",
    "# 웹브라우저를 통제하기 위한 라이브러리\n",
    "from selenium.webdriver.common.keys import Keys\n",
    "# 웹에게 값을 \"입력\"하기 위한 라이브러리 -> 컴퓨터용 키보드\n",
    "from selenium.webdriver.common.by import By\n",
    "# html 문서에서 태그와 선택자의 위치를 찾기 위한 라이브러리\n",
    "from bs4 import BeautifulSoup as bs\n",
    "# 컴퓨터가 이해하기 쉬운 객체로 변환해주는 라이브러리\n",
    "import pandas as pd\n",
    "# 수집한 정보를 DataFrame화 하기 위한 라이브러리\n",
    "import time\n",
    "# 코딩 중간에 쉬는시간을 부여해주는 라이브러리"
   ]
  },
  {
   "cell_type": "markdown",
   "id": "bef89081",
   "metadata": {},
   "source": [
    "#### 1. Gmarket 베스트 상품 페이지 가져오기"
   ]
  },
  {
   "cell_type": "code",
   "execution_count": 85,
   "id": "c953d173",
   "metadata": {},
   "outputs": [],
   "source": [
    "driver = wb.Chrome()\n",
    "driver.get('https://www.gmarket.co.kr/n/best')\n",
    "time.sleep(2)"
   ]
  },
  {
   "cell_type": "markdown",
   "id": "d8a7f096",
   "metadata": {},
   "source": [
    "#### 2. 1위 상품 클릭(.click())"
   ]
  },
  {
   "cell_type": "code",
   "execution_count": 86,
   "id": "cf2554ed",
   "metadata": {},
   "outputs": [],
   "source": [
    "menu = driver.find_elements(By.CLASS_NAME,'itemname')\n",
    "menu[0].click()"
   ]
  },
  {
   "cell_type": "markdown",
   "id": "b9b28158",
   "metadata": {},
   "source": [
    "#### 3. 상품명, 상품가격, 카테고리에 해당하는 태그 찾아서 컨텐츠 수집"
   ]
  },
  {
   "cell_type": "code",
   "execution_count": 87,
   "id": "97816187",
   "metadata": {},
   "outputs": [],
   "source": [
    "# 상품명 가져오기 방법1\n",
    "soup = bs(driver.page_source,'lxml')"
   ]
  },
  {
   "cell_type": "code",
   "execution_count": 99,
   "id": "b7e54462",
   "metadata": {},
   "outputs": [
    {
     "data": {
      "text/plain": [
       "'(클럽 위크전용 쿠폰적용가 6천원) 메가박스 일반예매권 2D주중/주말 '"
      ]
     },
     "execution_count": 99,
     "metadata": {},
     "output_type": "execute_result"
    }
   ],
   "source": [
    "iname= soup.select_one('h1.itemtit')\n",
    "iname.text"
   ]
  },
  {
   "cell_type": "code",
   "execution_count": 100,
   "id": "bebceb4d",
   "metadata": {},
   "outputs": [
    {
     "data": {
      "text/plain": [
       "'(클럽 위크전용 쿠폰적용가 6천원) 메가박스 일반예매권 2D주중/주말'"
      ]
     },
     "execution_count": 100,
     "metadata": {},
     "output_type": "execute_result"
    }
   ],
   "source": [
    "# 상품명 가져오기 방법2\n",
    "# 단점 .text 안하면 뭘 가져온지 모르게 됨\n",
    "m_name = driver.find_element(By.CLASS_NAME,'itemtit')\n",
    "m_name.text"
   ]
  },
  {
   "cell_type": "code",
   "execution_count": 101,
   "id": "0656a283",
   "metadata": {},
   "outputs": [
    {
     "data": {
      "text/plain": [
       "'15,000원'"
      ]
     },
     "execution_count": 101,
     "metadata": {},
     "output_type": "execute_result"
    }
   ],
   "source": [
    "# 상품 가격\n",
    "iprice= soup.select_one('strong.price_real')\n",
    "iprice.text"
   ]
  },
  {
   "cell_type": "code",
   "execution_count": 97,
   "id": "ac064274",
   "metadata": {},
   "outputs": [
    {
     "data": {
      "text/plain": [
       "'메가박스'"
      ]
     },
     "execution_count": 97,
     "metadata": {},
     "output_type": "execute_result"
    }
   ],
   "source": [
    "# 상품 카테고리\n",
    "icategory= soup.select_one('li.on>a')\n",
    "icategory.text"
   ]
  },
  {
   "cell_type": "code",
   "execution_count": null,
   "id": "6a747fb7",
   "metadata": {},
   "outputs": [],
   "source": [
    "# copy selector\n",
    "# selector 찾기 정말 힘들 때 개발자모드에서 찾고 싶은거 지정한 곳에서\n",
    "# 마우스 우클릭 > copy > copy selector "
   ]
  },
  {
   "cell_type": "markdown",
   "id": "96e3f659",
   "metadata": {},
   "source": [
    "#### 4. Gmarket 베스트 상품 페이지로 돌아가기"
   ]
  },
  {
   "cell_type": "code",
   "execution_count": 77,
   "id": "d87c0b61",
   "metadata": {},
   "outputs": [],
   "source": [
    "driver.get('https://www.gmarket.co.kr/n/best')"
   ]
  },
  {
   "cell_type": "markdown",
   "id": "023cac2c",
   "metadata": {},
   "source": [
    "#### 5. 반복문으로 1위~10위까지 클릭"
   ]
  },
  {
   "cell_type": "code",
   "execution_count": null,
   "id": "5a8b4b0a",
   "metadata": {},
   "outputs": [],
   "source": [
    "# 반복문 넣고 1위~10위까지 출력하면 크롤링 완료\n",
    "# 1. 빈리스트(상품이름, 가격, 카테고리,순위)\n",
    "# 2. 반복문\n",
    "# 3. driver.close()\n",
    "# 4. dictionary 형태로 정리 -> DataFrame화(순위 -> index)"
   ]
  },
  {
   "cell_type": "code",
   "execution_count": 120,
   "id": "43b52303",
   "metadata": {},
   "outputs": [],
   "source": [
    "# 이 한셀만 실행해도 크롤링이 자동으로 되도록 코딩\n",
    "name=[]\n",
    "price=[]\n",
    "category=[]\n",
    "rank=[]\n",
    "driver = wb.Chrome()\n",
    "\n",
    "for i in range(1,11):\n",
    "    # 반복문이 실행될 때마다 페이지 refresh\n",
    "    driver.get('https://www.gmarket.co.kr/n/best')\n",
    "    time.sleep(2)\n",
    "    menu = driver.find_elements(By.CLASS_NAME,'itemname')\n",
    "    menu[i-1].click() # 상품 1위부터 10위까지 클릭\n",
    "    time.sleep(2)\n",
    "\n",
    "    soup = bs(driver.page_source,'lxml') # 상품 상세 페이지 객체화\n",
    "\n",
    "    iname= soup.select_one('h1.itemtit')\n",
    "    name.append(iname.text) # 상품명 수집\n",
    "    iprice= soup.select_one('strong.price_real')\n",
    "    price.append(iprice.text) # 상품가격 수집\n",
    "    icategory= soup.select_one('li.on>a')\n",
    "    category.append(icategory.text) # 카테고리 수집\n",
    "    rank.append(i) # 순위 수집(1~10위)\n",
    "        \n",
    "driver.close() #크롬드라이버 종료\n"
   ]
  },
  {
   "cell_type": "markdown",
   "id": "d9442457",
   "metadata": {},
   "source": [
    "#### 6. 상품명, 상품가격, 카테고리라는 key값으로 딕셔너리 생성"
   ]
  },
  {
   "cell_type": "code",
   "execution_count": 122,
   "id": "be2c1268",
   "metadata": {},
   "outputs": [],
   "source": [
    "dic = {'상품명': name,\n",
    "       '상품가격':price,\n",
    "       '카테고리':category} "
   ]
  },
  {
   "cell_type": "markdown",
   "id": "690309cc",
   "metadata": {},
   "source": [
    "#### 7. 데이터프레임 생성 후 csv파일로 변환"
   ]
  },
  {
   "cell_type": "code",
   "execution_count": 130,
   "id": "c690b61e",
   "metadata": {},
   "outputs": [
    {
     "data": {
      "text/html": [
       "<div>\n",
       "<style scoped>\n",
       "    .dataframe tbody tr th:only-of-type {\n",
       "        vertical-align: middle;\n",
       "    }\n",
       "\n",
       "    .dataframe tbody tr th {\n",
       "        vertical-align: top;\n",
       "    }\n",
       "\n",
       "    .dataframe thead th {\n",
       "        text-align: right;\n",
       "    }\n",
       "</style>\n",
       "<table border=\"1\" class=\"dataframe\">\n",
       "  <thead>\n",
       "    <tr style=\"text-align: right;\">\n",
       "      <th></th>\n",
       "      <th>상품명</th>\n",
       "      <th>상품가격</th>\n",
       "      <th>카테고리</th>\n",
       "    </tr>\n",
       "  </thead>\n",
       "  <tbody>\n",
       "    <tr>\n",
       "      <th>1</th>\n",
       "      <td>(클럽 위크전용 쿠폰적용가 6천원) 메가박스 일반예매권 2D주중/주말</td>\n",
       "      <td>15,000원</td>\n",
       "      <td>메가박스</td>\n",
       "    </tr>\n",
       "    <tr>\n",
       "      <th>2</th>\n",
       "      <td>10%+5% 나이키 뉴발란스 스우시 6팩 크루삭스 운동 스포츠양말</td>\n",
       "      <td>14,900원</td>\n",
       "      <td>골프양말</td>\n",
       "    </tr>\n",
       "    <tr>\n",
       "      <th>3</th>\n",
       "      <td>((쿠폰가:12870원))1+1 든든한 퀄리티 캡커버 장우산 양산 ZH001</td>\n",
       "      <td>14,300원</td>\n",
       "      <td>장우산</td>\n",
       "    </tr>\n",
       "    <tr>\n",
       "      <th>4</th>\n",
       "      <td>통영 자연산 대왕 바다장어 1kg (1kg에 2-3미/ 당일 조업 당일 손질/ 산지...</td>\n",
       "      <td>19,900원</td>\n",
       "      <td>장어</td>\n",
       "    </tr>\n",
       "    <tr>\n",
       "      <th>5</th>\n",
       "      <td>섬유유연제 3100ml x2개+2300mlx3개(향선택)+시그300mlx2개/특가1...</td>\n",
       "      <td>17,900원</td>\n",
       "      <td>섬유유연제</td>\n",
       "    </tr>\n",
       "    <tr>\n",
       "      <th>6</th>\n",
       "      <td>(오플닷컴) 스트라다 단열 스테인레스 스틸 쉐이커 보틀 보냉 텀블러 화이트 710 ...</td>\n",
       "      <td>24,900원</td>\n",
       "      <td>헬스보충제</td>\n",
       "    </tr>\n",
       "    <tr>\n",
       "      <th>7</th>\n",
       "      <td>HACCP인증/국내산 물김치 (얼갈이+열무)2kg/쿠폰가13320원</td>\n",
       "      <td>14,800원</td>\n",
       "      <td>기타김치</td>\n",
       "    </tr>\n",
       "    <tr>\n",
       "      <th>8</th>\n",
       "      <td>한정11.9만 Orthomol(오쏘몰) Immun 이뮨 (정제+드링크) 1+1 무료배송</td>\n",
       "      <td>143,300원</td>\n",
       "      <td>비타민</td>\n",
       "    </tr>\n",
       "    <tr>\n",
       "      <th>9</th>\n",
       "      <td>(최종가 13900원) 초대형 장우산 1+1 자동 튼튼한 골프 의전 우산 둘레 15...</td>\n",
       "      <td>17,400원</td>\n",
       "      <td>장우산</td>\n",
       "    </tr>\n",
       "    <tr>\n",
       "      <th>10</th>\n",
       "      <td>특가 K6 기계식 유/무선 키보드 (한글자판) 블루투스5.0 RGB라이트 100키 ...</td>\n",
       "      <td>37,800원</td>\n",
       "      <td>키보드</td>\n",
       "    </tr>\n",
       "  </tbody>\n",
       "</table>\n",
       "</div>"
      ],
      "text/plain": [
       "                                                  상품명      상품가격   카테고리\n",
       "1             (클럽 위크전용 쿠폰적용가 6천원) 메가박스 일반예매권 2D주중/주말    15,000원   메가박스\n",
       "2               10%+5% 나이키 뉴발란스 스우시 6팩 크루삭스 운동 스포츠양말    14,900원   골프양말\n",
       "3         ((쿠폰가:12870원))1+1 든든한 퀄리티 캡커버 장우산 양산 ZH001    14,300원    장우산\n",
       "4   통영 자연산 대왕 바다장어 1kg (1kg에 2-3미/ 당일 조업 당일 손질/ 산지...   19,900원     장어\n",
       "5   섬유유연제 3100ml x2개+2300mlx3개(향선택)+시그300mlx2개/특가1...   17,900원  섬유유연제\n",
       "6   (오플닷컴) 스트라다 단열 스테인레스 스틸 쉐이커 보틀 보냉 텀블러 화이트 710 ...   24,900원  헬스보충제\n",
       "7              HACCP인증/국내산 물김치 (얼갈이+열무)2kg/쿠폰가13320원    14,800원   기타김치\n",
       "8   한정11.9만 Orthomol(오쏘몰) Immun 이뮨 (정제+드링크) 1+1 무료배송   143,300원    비타민\n",
       "9   (최종가 13900원) 초대형 장우산 1+1 자동 튼튼한 골프 의전 우산 둘레 15...   17,400원    장우산\n",
       "10  특가 K6 기계식 유/무선 키보드 (한글자판) 블루투스5.0 RGB라이트 100키 ...   37,800원    키보드"
      ]
     },
     "execution_count": 130,
     "metadata": {},
     "output_type": "execute_result"
    }
   ],
   "source": [
    "gmarket = pd.DataFrame(dic, index=rank)\n",
    "gmarket"
   ]
  },
  {
   "cell_type": "code",
   "execution_count": 129,
   "id": "ba2835bc",
   "metadata": {},
   "outputs": [],
   "source": [
    "gmarket.to_csv('Gmarket상품정보.csv',encoding='euc-kr')"
   ]
  },
  {
   "cell_type": "code",
   "execution_count": null,
   "id": "caea9728",
   "metadata": {},
   "outputs": [],
   "source": []
  },
  {
   "cell_type": "code",
   "execution_count": null,
   "id": "30556b27",
   "metadata": {},
   "outputs": [],
   "source": []
  },
  {
   "cell_type": "code",
   "execution_count": null,
   "id": "0a4e20dd",
   "metadata": {},
   "outputs": [],
   "source": []
  },
  {
   "cell_type": "code",
   "execution_count": null,
   "id": "0639ef72",
   "metadata": {},
   "outputs": [],
   "source": []
  },
  {
   "cell_type": "code",
   "execution_count": null,
   "id": "2fd79ae8",
   "metadata": {},
   "outputs": [],
   "source": []
  },
  {
   "cell_type": "code",
   "execution_count": null,
   "id": "5e103626",
   "metadata": {},
   "outputs": [],
   "source": []
  },
  {
   "cell_type": "code",
   "execution_count": null,
   "id": "4ffd8a58",
   "metadata": {},
   "outputs": [],
   "source": []
  },
  {
   "cell_type": "code",
   "execution_count": null,
   "id": "d599312f",
   "metadata": {},
   "outputs": [],
   "source": []
  },
  {
   "cell_type": "code",
   "execution_count": null,
   "id": "a030bf96",
   "metadata": {},
   "outputs": [],
   "source": []
  },
  {
   "cell_type": "code",
   "execution_count": null,
   "id": "1a44cba2",
   "metadata": {},
   "outputs": [],
   "source": []
  },
  {
   "cell_type": "code",
   "execution_count": null,
   "id": "44d85cab",
   "metadata": {},
   "outputs": [],
   "source": []
  },
  {
   "cell_type": "code",
   "execution_count": null,
   "id": "af47fdc4",
   "metadata": {},
   "outputs": [],
   "source": []
  },
  {
   "cell_type": "code",
   "execution_count": null,
   "id": "444208b9",
   "metadata": {},
   "outputs": [],
   "source": []
  },
  {
   "cell_type": "code",
   "execution_count": null,
   "id": "8661292f",
   "metadata": {},
   "outputs": [],
   "source": []
  },
  {
   "cell_type": "code",
   "execution_count": null,
   "id": "24660444",
   "metadata": {},
   "outputs": [],
   "source": []
  },
  {
   "cell_type": "code",
   "execution_count": null,
   "id": "0028b49b",
   "metadata": {},
   "outputs": [],
   "source": []
  },
  {
   "cell_type": "code",
   "execution_count": null,
   "id": "90a65748",
   "metadata": {},
   "outputs": [],
   "source": []
  },
  {
   "cell_type": "code",
   "execution_count": null,
   "id": "8cf96431",
   "metadata": {},
   "outputs": [],
   "source": []
  },
  {
   "cell_type": "code",
   "execution_count": null,
   "id": "efbb3de2",
   "metadata": {},
   "outputs": [],
   "source": []
  },
  {
   "cell_type": "code",
   "execution_count": null,
   "id": "a9551536",
   "metadata": {},
   "outputs": [],
   "source": []
  },
  {
   "cell_type": "code",
   "execution_count": null,
   "id": "2ba6e891",
   "metadata": {},
   "outputs": [],
   "source": []
  },
  {
   "cell_type": "code",
   "execution_count": null,
   "id": "f909c4f8",
   "metadata": {},
   "outputs": [],
   "source": []
  },
  {
   "cell_type": "code",
   "execution_count": null,
   "id": "aed1bbce",
   "metadata": {},
   "outputs": [],
   "source": []
  },
  {
   "cell_type": "code",
   "execution_count": null,
   "id": "180a8ae8",
   "metadata": {},
   "outputs": [],
   "source": []
  },
  {
   "cell_type": "code",
   "execution_count": null,
   "id": "458c49ac",
   "metadata": {},
   "outputs": [],
   "source": []
  },
  {
   "cell_type": "code",
   "execution_count": null,
   "id": "2b525d57",
   "metadata": {},
   "outputs": [],
   "source": []
  },
  {
   "cell_type": "code",
   "execution_count": null,
   "id": "e54cfec8",
   "metadata": {},
   "outputs": [],
   "source": []
  },
  {
   "cell_type": "code",
   "execution_count": null,
   "id": "c9339f15",
   "metadata": {},
   "outputs": [],
   "source": []
  },
  {
   "cell_type": "code",
   "execution_count": null,
   "id": "f4e01a01",
   "metadata": {},
   "outputs": [],
   "source": []
  },
  {
   "cell_type": "code",
   "execution_count": null,
   "id": "0ffe1794",
   "metadata": {},
   "outputs": [],
   "source": []
  },
  {
   "cell_type": "code",
   "execution_count": null,
   "id": "67e0863b",
   "metadata": {},
   "outputs": [],
   "source": []
  },
  {
   "cell_type": "code",
   "execution_count": null,
   "id": "a893bc7a",
   "metadata": {},
   "outputs": [],
   "source": []
  },
  {
   "cell_type": "code",
   "execution_count": null,
   "id": "a089abd6",
   "metadata": {},
   "outputs": [],
   "source": []
  },
  {
   "cell_type": "code",
   "execution_count": null,
   "id": "d5a4a581",
   "metadata": {},
   "outputs": [],
   "source": []
  },
  {
   "cell_type": "code",
   "execution_count": null,
   "id": "a864bbeb",
   "metadata": {},
   "outputs": [],
   "source": []
  },
  {
   "cell_type": "code",
   "execution_count": null,
   "id": "06ff28b3",
   "metadata": {},
   "outputs": [],
   "source": []
  },
  {
   "cell_type": "code",
   "execution_count": null,
   "id": "827ae18e",
   "metadata": {},
   "outputs": [],
   "source": []
  },
  {
   "cell_type": "code",
   "execution_count": null,
   "id": "5e462717",
   "metadata": {},
   "outputs": [],
   "source": []
  },
  {
   "cell_type": "code",
   "execution_count": null,
   "id": "211c0368",
   "metadata": {},
   "outputs": [],
   "source": []
  },
  {
   "cell_type": "code",
   "execution_count": null,
   "id": "12101a4d",
   "metadata": {},
   "outputs": [],
   "source": []
  },
  {
   "cell_type": "code",
   "execution_count": null,
   "id": "7fbb12bf",
   "metadata": {},
   "outputs": [],
   "source": []
  }
 ],
 "metadata": {
  "kernelspec": {
   "display_name": "Python 3 (ipykernel)",
   "language": "python",
   "name": "python3"
  },
  "language_info": {
   "codemirror_mode": {
    "name": "ipython",
    "version": 3
   },
   "file_extension": ".py",
   "mimetype": "text/x-python",
   "name": "python",
   "nbconvert_exporter": "python",
   "pygments_lexer": "ipython3",
   "version": "3.11.3"
  }
 },
 "nbformat": 4,
 "nbformat_minor": 5
}
